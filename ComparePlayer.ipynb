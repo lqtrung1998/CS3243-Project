{
 "cells": [
  {
   "cell_type": "code",
   "execution_count": 1,
   "metadata": {},
   "outputs": [],
   "source": [
    "import sys\n",
    "sys.path.insert(0, './pypokerengine/api/')\n",
    "import game\n",
    "setup_config = game.setup_config\n",
    "start_poker = game.start_poker\n",
    "import time\n",
    "from argparse import ArgumentParser\n",
    "\n",
    "\n",
    "\"\"\" =========== *Remember to import your agent!!! =========== \"\"\"\n",
    "from randomplayer import RandomPlayer\n",
    "from raise_player import RaisedPlayer\n",
    "from bot1 import Bot1\n",
    "from GROUP48 import MyPlayer\n",
    "\"\"\" ========================================================= \"\"\"\n",
    "\n",
    "\"\"\" Example---To run testperf.py with random warrior AI against itself. \n",
    "\n",
    "$ python testperf.py -n1 \"Random Warrior 1\" -a1 RandomPlayer -n2 \"Random Warrior 2\" -a2 RandomPlayer\n",
    "\"\"\"\n",
    "\n",
    "def testperf(agent_name1 = \"Agent 1\", agent1 =RaisedPlayer(), agent_name2=\"Agent 2\",agent2= RaisedPlayer(), \n",
    "         num_game = 1, max_round = 30):\t\t\n",
    "\n",
    "    # Init to play 500 games of 1000 rounds\n",
    "#     num_game = 5\n",
    "#     max_round = 10\n",
    "    initial_stack = 10000\n",
    "    smallblind_amount = 20\n",
    "\n",
    "    # Init pot of players\n",
    "    agent1_pot = 0\n",
    "    agent2_pot = 0\n",
    "\n",
    "    # Setting configuration\n",
    "    config = setup_config(max_round=max_round, initial_stack=initial_stack, small_blind_amount=smallblind_amount)\n",
    "\n",
    "    # Register players\n",
    "    # \tconfig.register_player(name=agent_name1, algorithm=RaisedPlayer())\n",
    "    # \tconfig.register_player(name=\"Group 48\", algorithm=MyPlayer())\n",
    "    config.register_player(name=agent_name1, algorithm=agent1)\n",
    "    config.register_player(name=agent_name2, algorithm=agent2)\n",
    "\n",
    "\n",
    "    # Start playing num_game games\n",
    "    for game in range(1, num_game+1):\n",
    "#         print(\"Game number: \", game)\n",
    "        game_result = start_poker(config, verbose=0)\n",
    "        agent1_pot = agent1_pot + game_result['players'][0]['stack']\n",
    "        agent2_pot = agent2_pot + game_result['players'][1]['stack']\n",
    "\n",
    "# \tprint(\"\\n After playing {} games of {} rounds, the results are: \".format(num_game, max_round))\n",
    "# \t# print(\"\\n Agent 1's final pot: \", agent1_pot)\n",
    "# \tprint(\"\\n \" + agent_name1 + \"'s final pot: \", agent1_pot)\n",
    "# \tprint(\"\\n \" + agent_name2 + \"'s final pot: \", agent2_pot)\n",
    "\n",
    "# print(\"\\n \", game_result)\n",
    "# print(\"\\n Random player's final stack: \", game_result['players'][0]['stack'])\n",
    "# print(\"\\n \" + agent_name + \"'s final stack: \", game_result['players'][1]['stack'])\n",
    "\n",
    "# \tif (agent1_pot<agent2_pot):\n",
    "# \t\tprint(\"\\n Congratulations! \" + agent_name2 + \" has won.\")\n",
    "# \telif(agent1_pot>agent2_pot):\n",
    "# \t\tprint(\"\\n Congratulations! \" + agent_name1 + \" has won.\")\n",
    "# \t\t# print(\"\\n Random Player has won!\")\n",
    "# \telse:\n",
    "# \t\tprint(\"\\n It's a draw!\") \n",
    "    return agent1_pot - agent2_pot\n"
   ]
  },
  {
   "cell_type": "code",
   "execution_count": 4,
   "metadata": {},
   "outputs": [],
   "source": [
    "import matplotlib.pyplot as plt\n",
    "import numpy as np\n",
    "from __future__ import print_function\n",
    "def plotPerformance():\n",
    "    pfm = []\n",
    "    n_game = 200\n",
    "    n_win =0\n",
    "    print(\"Game\",end=\":\")\n",
    "    for i in range(n_game):\n",
    "        print(i,end=',')\n",
    "        agent1 = MyPlayer()\n",
    "        agent2 = Bot1()\n",
    "        score = testperf(agent_name1= \"Group 48\",agent1 =agent1,agent2=agent2, max_round = 20)\n",
    "        if score >0:\n",
    "            n_win +=1\n",
    "            print(float(n_win)/n_game)\n",
    "        pfm.append(score)\n",
    "    print(\"Win:\", float(n_win)/n_game)\n",
    "    plt.scatter(np.arange(n_game),pfm)"
   ]
  },
  {
   "cell_type": "code",
   "execution_count": null,
   "metadata": {},
   "outputs": [
    {
     "name": "stdout",
     "output_type": "stream",
     "text": [
      "Game:0,1,2,"
     ]
    }
   ],
   "source": [
    "plotPerformance()"
   ]
  },
  {
   "cell_type": "code",
   "execution_count": null,
   "metadata": {},
   "outputs": [],
   "source": []
  }
 ],
 "metadata": {
  "kernelspec": {
   "display_name": "Python 2",
   "language": "python",
   "name": "python2"
  },
  "language_info": {
   "codemirror_mode": {
    "name": "ipython",
    "version": 2
   },
   "file_extension": ".py",
   "mimetype": "text/x-python",
   "name": "python",
   "nbconvert_exporter": "python",
   "pygments_lexer": "ipython2",
   "version": "2.7.15"
  }
 },
 "nbformat": 4,
 "nbformat_minor": 2
}
