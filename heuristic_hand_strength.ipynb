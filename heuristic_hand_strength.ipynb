{
 "cells": [
  {
   "cell_type": "code",
   "execution_count": 5,
   "metadata": {},
   "outputs": [],
   "source": [
    "import numpy as np\n",
    "from pypokerengine.engine.hand_evaluator import HandEvaluator\n",
    "from pypokerengine.utils.card_utils import estimate_hole_card_win_rate, gen_cards\n",
    "\n",
    "heuristic_weights =  np.array([0.1,1,2,3,7,14,28,56,112,224,448])\n",
    "def hand_strength(hole, community_card, heuristic_weights=heuristic_weights):\n",
    "    '''\n",
    "    opponent hole card and community_card are card objects from pypokerengine.\n",
    "    The suits of hole card is randomed so just ignore flush.\n",
    "    \n",
    "    TODO: modify this function to output handstrength so that it can show differences between \n",
    "    strong and weak hands (the values don't matter, just need the correct order, and fast)\n",
    "    Feel free to change anything.\n",
    "    \n",
    "    '''\n",
    "    cards = hole + community_card\n",
    "    score_vector = np.zeros(11)\n",
    "    # if HandEvaluator._HandEvaluator__is_straightflash(cards): score_vector[10]=0\n",
    "    if HandEvaluator._HandEvaluator__is_fourcard(cards): score_vector[9]=1\n",
    "    if HandEvaluator._HandEvaluator__is_fullhouse(cards): score_vector[8]=1\n",
    "    # if HandEvaluator._HandEvaluator__is_flash(cards): score_vector[7]=0\n",
    "    if HandEvaluator._HandEvaluator__is_straight(cards): score_vector[6]=1\n",
    "    if HandEvaluator._HandEvaluator__is_threecard(cards): score_vector[5]=1\n",
    "    if HandEvaluator._HandEvaluator__is_twopair(cards): score_vector[4]=1\n",
    "    if HandEvaluator._HandEvaluator__is_onepair(cards): \n",
    "        if cards[0].rank >=10:\n",
    "            score_vector[3]=1\n",
    "        elif cards[0].rank >=6:\n",
    "            score_vector[2]=1\n",
    "        else:\n",
    "            score_vector[1]=1\n",
    "            \n",
    "    if cards and max(list(map(lambda x: x.rank,cards))) >=11:\n",
    "        score_vector[0]=1\n",
    "    return np.dot(heuristic_weights,score_vector)"
   ]
  },
  {
   "cell_type": "code",
   "execution_count": 6,
   "metadata": {},
   "outputs": [],
   "source": [
    "## The current one failed on this(card2 should be > card1)\n",
    "card1 = gen_cards(['D7', 'CA'])\n",
    "card2 = gen_cards(['H9', 'D9'])\n",
    "comm = gen_cards(['C7', 'H5', 'S5'])"
   ]
  },
  {
   "cell_type": "code",
   "execution_count": 7,
   "metadata": {},
   "outputs": [
    {
     "data": {
      "text/plain": [
       "9.1"
      ]
     },
     "execution_count": 7,
     "metadata": {},
     "output_type": "execute_result"
    }
   ],
   "source": [
    "hand_strength(card1, comm)"
   ]
  },
  {
   "cell_type": "code",
   "execution_count": 8,
   "metadata": {},
   "outputs": [
    {
     "data": {
      "text/plain": [
       "9.0"
      ]
     },
     "execution_count": 8,
     "metadata": {},
     "output_type": "execute_result"
    }
   ],
   "source": [
    "hand_strength(card2, comm)"
   ]
  },
  {
   "cell_type": "code",
   "execution_count": null,
   "metadata": {},
   "outputs": [],
   "source": []
  }
 ],
 "metadata": {
  "kernelspec": {
   "display_name": "Python 2",
   "language": "python",
   "name": "python2"
  },
  "language_info": {
   "codemirror_mode": {
    "name": "ipython",
    "version": 2
   },
   "file_extension": ".py",
   "mimetype": "text/x-python",
   "name": "python",
   "nbconvert_exporter": "python",
   "pygments_lexer": "ipython2",
   "version": "2.7.16"
  }
 },
 "nbformat": 4,
 "nbformat_minor": 2
}
